{
 "cells": [
  {
   "cell_type": "code",
   "execution_count": 1,
   "metadata": {},
   "outputs": [
    {
     "name": "stdout",
     "output_type": "stream",
     "text": [
      "Populating the interactive namespace from numpy and matplotlib\n",
      "Generating theory Cls...\n"
     ]
    },
    {
     "name": "stderr",
     "output_type": "stream",
     "text": [
      "/Users/nab/anaconda/lib/python3.7/site-packages/ipykernel_launcher.py:15: DeprecationWarning: The SafeConfigParser class has been renamed to ConfigParser in Python 3.2. This alias will be removed in future versions. Use ConfigParser directly instead.\n",
      "  from ipykernel import kernelapp as app\n"
     ]
    },
    {
     "name": "stdout",
     "output_type": "stream",
     "text": [
      "8000 5 False\n",
      "V3 flag enabled.\n",
      "CCATP + SO goal\n",
      "Replacing  [ 27.  39.  90. 150. 220. 270.]  with  [222. 280. 348. 405. 850.]\n",
      "Replacing  [7.75, 5.65, 2.4, 1.55, 1.05, 0.85]  with  [0.95       0.75       0.58333333 0.5        0.23333333]\n",
      "Using  0.4  for fsky\n",
      "[  2.   3.   4.   5.   6.   7.   8.   9.  10.  11.  12.  13.  14.  15.\n",
      "  16.  17.  18.  19.  20.  21.  22.  23.  24.  25.  26.  27.  28.  29.\n",
      "  30.  31.  32.  33.  34.  35.  36.  37.  38.  39.  40.  41.  42.  43.\n",
      "  44.  45.  46.  47.  48.  49.  50.  51.  52.  53.  54.  55.  56.  57.\n",
      "  58.  59.  60.  61.  62.  63.  64.  65.  66.  67.  68.  69.  70.  71.\n",
      "  72.  73.  74.  75.  76.  77.  78.  79.  80.  81.  82.  83.  84.  85.\n",
      "  86.  87.  88.  89.  90.  91.  92.  93.  94.  95.  96.  97.  98.  99.\n",
      " 100. 101. 102. 103. 104. 105. 106. 107. 108. 109. 110. 111. 112. 113.\n",
      " 114. 115. 116. 117. 118. 119. 120. 121. 122. 123. 124. 125. 126. 127.\n",
      " 128. 129. 130. 131. 132. 133. 134. 135. 136. 137. 138. 139. 140. 141.\n",
      " 142. 143. 144. 145. 146. 147. 148. 149. 150. 151. 152. 153. 154. 155.\n",
      " 156. 157. 158. 159. 160. 161. 162. 163. 164. 165. 166. 167. 168. 169.\n",
      " 170. 171. 172. 173. 174. 175. 176. 177. 178. 179. 180. 181. 182. 183.\n",
      " 184. 185. 186. 187. 188. 189. 190. 191. 192. 193. 194. 195. 196. 197.\n",
      " 198. 199. 200. 201. 202. 203. 204. 205. 206. 207. 208. 209. 210. 211.\n",
      " 212. 213. 214. 215. 216. 217. 218. 219. 220. 221. 222. 223. 224. 225.\n",
      " 226. 227. 228. 229. 230. 231. 232. 233. 234. 235. 236. 237. 238. 239.\n",
      " 240. 241. 242. 243. 244. 245. 246. 247. 248. 249. 250. 251. 252. 253.\n",
      " 254. 255. 256. 257. 258. 259. 260. 261. 262. 263. 264. 265. 266. 267.\n",
      " 268. 269. 270. 271. 272. 273. 274. 275. 276. 277. 278. 279. 280. 281.\n",
      " 282. 283. 284. 285. 286. 287. 288. 289. 290. 291. 292. 293. 294. 295.\n",
      " 296. 297. 298. 299. 300. 301. 302. 303. 304. 305. 306. 307. 308. 309.\n",
      " 310. 311. 312. 313. 314. 315. 316. 317. 318. 319. 320. 321. 322. 323.\n",
      " 324. 325. 326. 327. 328. 329. 330. 331. 332. 333. 334. 335. 336. 337.\n",
      " 338. 339. 340. 341. 342. 343. 344. 345. 346. 347. 348. 349. 350. 351.\n",
      " 352. 353. 354. 355. 356. 357. 358. 359. 360. 361. 362. 363. 364. 365.\n",
      " 366. 367. 368. 369. 370. 371. 372. 373. 374. 375. 376. 377. 378. 379.\n",
      " 380. 381. 382. 383. 384. 385. 386. 387. 388. 389. 390. 391. 392. 393.\n",
      " 394. 395. 396. 397. 398. 399.] None [[6.88171602e-02 2.60903337e-02 1.31454394e-02 ... 4.85447775e+04\n",
      "  5.36810083e+04 5.93756828e+04]\n",
      " [2.63616996e-02 9.99044513e-03 5.03096974e-03 ... 5.68103777e-01\n",
      "  5.96155306e-01 6.25667795e-01]\n",
      " [4.23262287e-03 1.53695467e-03 7.49487821e-04 ... 1.19241338e-05\n",
      "  1.20547783e-05 1.21871926e-05]\n",
      " [3.38394427e-02 1.00282908e-02 4.23208651e-03 ... 4.35559081e-06\n",
      "  4.37084171e-06 4.38618535e-06]\n",
      " [2.97120723e-01 8.80416216e-02 3.71471141e-02 ... 9.32801168e-06\n",
      "  9.34134841e-06 9.35474258e-06]\n",
      " [5.66864208e+00 1.67964202e+00 7.08632203e-01 ... 5.60098840e-05\n",
      "  5.60583862e-05 5.61071346e-05]]\n"
     ]
    },
    {
     "name": "stderr",
     "output_type": "stream",
     "text": [
      "/Users/nab/Repos/SILC/silc/SO_Noise_Calculator_Public_v3_1_1.py:217: RuntimeWarning: divide by zero encountered in double_scalars\n",
      "  (self.Tatmos_C[i] * self.Tatmos_C[j])**.5) )\n"
     ]
    },
    {
     "ename": "TypeError",
     "evalue": "'NoneType' object is not subscriptable",
     "output_type": "error",
     "traceback": [
      "\u001b[0;31m---------------------------------------------------------------------------\u001b[0m",
      "\u001b[0;31mTypeError\u001b[0m                                 Traceback (most recent call last)",
      "\u001b[0;32m<ipython-input-1-ab77695992d9>\u001b[0m in \u001b[0;36m<module>\u001b[0;34m\u001b[0m\n\u001b[1;32m     54\u001b[0m \u001b[0;34m\u001b[0m\u001b[0m\n\u001b[1;32m     55\u001b[0m ILC2  = ilc.ILC_simple(cosmo,fgs, rms_noises = noises,fwhms=beams,freqs=freqs,lmax=lmax,lknee=lknee,\\\n\u001b[0;32m---> 56\u001b[0;31m                       alpha=alpha,v3mode=v3mode,fsky=fsky,noatm=noatm, add='SO+SAT')\n\u001b[0m",
      "\u001b[0;32m~/Repos/SILC/silc/ilc.py\u001b[0m in \u001b[0;36m__init__\u001b[0;34m(self, Cosmology, fgs, fwhms, rms_noises, freqs, lmax, lknee, alpha, dell, v3mode, fsky, noatm, add)\u001b[0m\n\u001b[1;32m    310\u001b[0m \u001b[0;34m\u001b[0m\u001b[0m\n\u001b[1;32m    311\u001b[0m                 \u001b[0;32mif\u001b[0m \u001b[0mself\u001b[0m\u001b[0;34m.\u001b[0m\u001b[0mevalells\u001b[0m\u001b[0;34m[\u001b[0m\u001b[0mii\u001b[0m\u001b[0;34m]\u001b[0m \u001b[0;34m<=\u001b[0m \u001b[0msat_lmax\u001b[0m\u001b[0;34m:\u001b[0m\u001b[0;34m\u001b[0m\u001b[0;34m\u001b[0m\u001b[0m\n\u001b[0;32m--> 312\u001b[0;31m                     \u001b[0mnells_SOsat\u001b[0m \u001b[0;34m=\u001b[0m \u001b[0mnp\u001b[0m\u001b[0;34m.\u001b[0m\u001b[0mdiag\u001b[0m\u001b[0;34m(\u001b[0m\u001b[0mN_ell_T_LA_full_SOsat\u001b[0m\u001b[0;34m[\u001b[0m\u001b[0;34m:\u001b[0m\u001b[0;34m,\u001b[0m\u001b[0mii\u001b[0m\u001b[0;34m]\u001b[0m\u001b[0;34m/\u001b[0m \u001b[0mself\u001b[0m\u001b[0;34m.\u001b[0m\u001b[0mcc\u001b[0m\u001b[0;34m.\u001b[0m\u001b[0mc\u001b[0m\u001b[0;34m[\u001b[0m\u001b[0;34m'TCMBmuK'\u001b[0m\u001b[0;34m]\u001b[0m\u001b[0;34m**\u001b[0m\u001b[0;36m2.\u001b[0m\u001b[0;34m)\u001b[0m\u001b[0;34m\u001b[0m\u001b[0;34m\u001b[0m\u001b[0m\n\u001b[0m\u001b[1;32m    313\u001b[0m                     \u001b[0mnells_SOsat_pol\u001b[0m \u001b[0;34m=\u001b[0m \u001b[0mnp\u001b[0m\u001b[0;34m.\u001b[0m\u001b[0mdiag\u001b[0m\u001b[0;34m(\u001b[0m\u001b[0mN_ell_P_LA_SOsat\u001b[0m\u001b[0;34m[\u001b[0m\u001b[0;34m:\u001b[0m\u001b[0;34m,\u001b[0m\u001b[0mii\u001b[0m\u001b[0;34m]\u001b[0m\u001b[0;34m/\u001b[0m \u001b[0mself\u001b[0m\u001b[0;34m.\u001b[0m\u001b[0mcc\u001b[0m\u001b[0;34m.\u001b[0m\u001b[0mc\u001b[0m\u001b[0;34m[\u001b[0m\u001b[0;34m'TCMBmuK'\u001b[0m\u001b[0;34m]\u001b[0m\u001b[0;34m**\u001b[0m\u001b[0;36m2.\u001b[0m\u001b[0;34m)\u001b[0m\u001b[0;34m\u001b[0m\u001b[0;34m\u001b[0m\u001b[0m\n\u001b[1;32m    314\u001b[0m \u001b[0;34m\u001b[0m\u001b[0m\n",
      "\u001b[0;31mTypeError\u001b[0m: 'NoneType' object is not subscriptable"
     ]
    }
   ],
   "source": [
    "import matplotlib                                                                                                                                                                                                                                                                                  \n",
    "import numpy as np\n",
    "from silc.foregrounds import fgNoises\n",
    "import silc.ilc as ilc\n",
    "import silc.cosmology as csmo\n",
    "import sys,os\n",
    "from configparser import SafeConfigParser\n",
    "import pickle as pickle\n",
    "from orphics.io import dict_from_section, list_from_config\n",
    "%pylab inline\n",
    "                                                                                                                               \n",
    "cosmo = csmo.Cosmology()\n",
    "\n",
    "iniFile = \"input/exp_config.ini\"\n",
    "Config = SafeConfigParser()\n",
    "Config.optionxform=str\n",
    "Config.read(iniFile)\n",
    "\n",
    "fgs = fgNoises(cosmo.c,ksz_battaglia_test_csv=\"data/ksz_template_battaglia.csv\",\\\n",
    "               tsz_battaglia_template_csv=\"data/sz_template_battaglia.csv\")\n",
    "\n",
    "cf = 0\n",
    "constraint_tag = ['','_constrained']\n",
    "\n",
    "experimentName = \"CCATp-v1-40\"#\"CCATpSOg-v1-40\"                                                                                                                \n",
    "\n",
    "beams = list_from_config(Config,experimentName,'beams')\n",
    "noises = list_from_config(Config,experimentName,'noises')\n",
    "freqs = list_from_config(Config,experimentName,'freqs')\n",
    "lmax = int(Config.getfloat(experimentName,'lmax'))\n",
    "lknee = list_from_config(Config,experimentName,'lknee')[0]\n",
    "alpha = list_from_config(Config,experimentName,'alpha')[0]\n",
    "fsky = Config.getfloat(experimentName,'fsky')\n",
    "try:\n",
    "        v3mode = Config.getint(experimentName,'V3mode')\n",
    "except:\n",
    "        v3mode = -1\n",
    "\n",
    "try:\n",
    "        noatm = Config.getint(experimentName,'noatm')\n",
    "except:\n",
    "        noatm = False\n",
    "\n",
    "print (lmax,v3mode,noatm)\n",
    "\n",
    "fsky = 0.4\n",
    "\n",
    "#initialize ILC\n",
    "#ILC  = ilc.ILC_simple(cosmo,fgs, rms_noises = noises,fwhms=beams,freqs=freqs,lmax=lmax,lknee=lknee,\\\n",
    "#                      alpha=alpha,v3mode=v3mode,fsky=fsky,noatm=noatm, add='P')\n",
    "\n",
    "#ILC  = ilc.ILC_simple(cosmo,fgs, rms_noises = noises,fwhms=beams,freqs=freqs,lmax=lmax,lknee=lknee,\\\n",
    "#                      alpha=alpha,v3mode=v3mode,fsky=fsky,noatm=noatm, add='SO+P')\n",
    "\n",
    "ILC2  = ilc.ILC_simple(cosmo,fgs, rms_noises = noises,fwhms=beams,freqs=freqs,lmax=lmax,lknee=lknee,\\\n",
    "                      alpha=alpha,v3mode=v3mode,fsky=fsky,noatm=noatm, add='SO+SAT')\n"
   ]
  },
  {
   "cell_type": "markdown",
   "metadata": {},
   "source": [
    "# Rayleigh Scattering test"
   ]
  },
  {
   "cell_type": "code",
   "execution_count": 2,
   "metadata": {},
   "outputs": [
    {
     "name": "stdout",
     "output_type": "stream",
     "text": [
      "1.1018376584857181 4.586775809599617\n",
      "0.31733085686358165 0.45051961299130483\n",
      "0.33238777193749347 1.5977922168004561\n",
      "0.5235405315571826 0.7111342186572363\n"
     ]
    },
    {
     "data": {
      "text/plain": [
       "[<matplotlib.lines.Line2D at 0x125230e10>]"
      ]
     },
     "execution_count": 2,
     "metadata": {},
     "output_type": "execute_result"
    },
    {
     "data": {
      "image/png": "[encoded data removed]",
      "text/plain": [
       "<Figure size 432x288 with 1 Axes>"
      ]
     },
     "metadata": {
      "needs_background": "light"
     },
     "output_type": "display_data"
    }
   ],
   "source": [
    "ell = np.arange(2,4901,1)\n",
    "ell2 = np.arange(2,3000,1)\n",
    "c = [\"#027ac9\",\n",
    "\"#e2ba00\",\n",
    "\"#be099d\",\n",
    "\"#7b397c\"]\n",
    "\n",
    "plt.figure()\n",
    "cl,nl,sn = ILC.Rayleigh_forecast(3000.)\n",
    "cl2,nl2,sn2 = ILC.Rayleigh_forecast(3000.,noforegrounds=True)\n",
    "print (sn,sn2)\n",
    "plt.loglog(ell,cl,color=c[0])\n",
    "plt.plot(ell2,nl,'--',color=c[0])\n",
    "plt.plot(ell2,nl2,'-.',color=c[0])\n",
    "cl,nl,sn = ILC.Rayleigh_forecast(3000.,type='te')\n",
    "cl2,nl2,sn2 = ILC.Rayleigh_forecast(3000.,type='te',noforegrounds=True)\n",
    "print (sn,sn2)\n",
    "plt.plot(ell,cl,color=c[1])\n",
    "plt.plot(ell2,nl,'--',color=c[1])\n",
    "plt.plot(ell2,nl2,'-.',color=c[1])\n",
    "cl,nl,sn = ILC.Rayleigh_forecast(3000.,type='et')\n",
    "cl2,nl2,sn2 = ILC.Rayleigh_forecast(3000.,type='et',noforegrounds=True)\n",
    "print (sn,sn2)\n",
    "plt.plot(ell,cl,color=c[2])\n",
    "plt.plot(ell2,nl,'--',color=c[2])\n",
    "plt.plot(ell2,nl2,'-.',color=c[2])\n",
    "cl,nl,sn = ILC.Rayleigh_forecast(3000.,type='ee')\n",
    "cl2,nl2,sn2 = ILC.Rayleigh_forecast(3000.,type='ee',noforegrounds=True)\n",
    "print (sn,sn2)\n",
    "plt.plot(ell,cl,color=c[3])\n",
    "plt.plot(ell2,nl,'--',color=c[3])\n",
    "plt.plot(ell2,nl2,'-.',color=c[3])\n",
    "\n",
    "plt.figure()\n",
    "cl,nl,sn = ILC2.Rayleigh_forecast(3000.)\n",
    "cl2,nl2,sn2 = ILC2.Rayleigh_forecast(3000.,noforegrounds=True)\n",
    "print (sn,sn2)\n",
    "plt.loglog(ell,cl,color=c[0])\n",
    "plt.plot(ell2,nl,'--',color=c[0])\n",
    "plt.plot(ell2,nl2,'-.',color=c[0])\n",
    "cl,nl,sn = ILC2.Rayleigh_forecast(3000.,type='te')\n",
    "cl2,nl2,sn2 = ILC2.Rayleigh_forecast(3000.,type='te',noforegrounds=True)\n",
    "print (sn,sn2)\n",
    "plt.plot(ell,cl,color=c[1])\n",
    "plt.plot(ell2,nl,'--',color=c[1])\n",
    "plt.plot(ell2,nl2,'-.',color=c[1])\n",
    "cl,nl,sn = ILC2.Rayleigh_forecast(3000.,type='et')\n",
    "cl2,nl2,sn2 = ILC2.Rayleigh_forecast(3000.,type='et',noforegrounds=True)\n",
    "print (sn,sn2)\n",
    "plt.plot(ell,cl,color=c[2])\n",
    "plt.plot(ell2,nl,'--',color=c[2])\n",
    "plt.plot(ell2,nl2,'-.',color=c[2])\n",
    "cl,nl,sn = ILC2.Rayleigh_forecast(3000.,type='ee')\n",
    "cl2,nl2,sn2 = ILC2.Rayleigh_forecast(3000.,type='ee',noforegrounds=True)\n",
    "print (sn,sn2)\n",
    "plt.plot(ell,cl,color=c[3])\n",
    "plt.plot(ell2,nl,'--',color=c[3])\n",
    "plt.plot(ell2,nl2,'-.',color=c[3])"
   ]
  },
  {
   "cell_type": "code",
   "execution_count": null,
   "metadata": {},
   "outputs": [],
   "source": [
    "1.0403184525819786 4.157528517363274\n",
    "0.22564148215913724 0.3136793896908392\n",
    "0.3029480765801281 1.3895546339209726\n",
    "0.32960031714555255 0.42753961614229824"
   ]
  },
  {
   "cell_type": "markdown",
   "metadata": {},
   "source": [
    "# tSZ test"
   ]
  },
  {
   "cell_type": "code",
   "execution_count": 3,
   "metadata": {},
   "outputs": [
    {
     "name": "stdout",
     "output_type": "stream",
     "text": [
      "[5.16966177e-17 5.17005640e-17 5.16974753e-17 ... 5.04183719e-18\n",
      " 5.04415836e-18 5.04648082e-18]\n"
     ]
    }
   ],
   "source": [
    "nll_tsz = ILC.tsz_opt()\n",
    "print (nll_tsz)"
   ]
  },
  {
   "cell_type": "code",
   "execution_count": 5,
   "metadata": {},
   "outputs": [
    {
     "data": {
      "text/plain": [
       "'\\nlat_lmax = 4000\\n\\nimport silc.ccat_noise_200306 as ccatp\\nccat = ccatp.CcatLatv2(\\'baseline\\',survey_years=4000/24./365.24,survey_efficiency = 1.0)\\nell_CC, N_ell_CC_T_full,N_ell_CC_P_full = ccat.get_noise_curves(fsky, lat_lmax, 1, full_covar=False, deconv_beam=True)\\n\\nplt.figure()\\nplt.semilogy(ell_CC,N_ell_CC_P_full[0,:],label=\\'P\\')\\nplt.plot(ell_CC,N_ell_CC_T_full[0,:],label=\\'T\\')\\nplt.plot(ell_CC,N_ell_CC_P_full[0,:]*ell_CC**2,\\'--\\',label=\\'P ell^2\\')\\nplt.plot(ell_CC,N_ell_CC_T_full[0,:]*ell_CC**2,\\'--\\',label=\\'T ell^2\\')\\nleg = legend(loc=0,prop={\"size\":12})\\nleg.draw_frame(False)\\n\\nplt.figure()\\nplt.plot(ILC.evalells,ILC.nells[:,fq,fq]*(ILC.evalells)*(ILC.evalells+1)/(2.*np.pi))\\nplt.semilogy(ILC.evalells,ILC.nells_pol[:,fq,fq]*(ILC.evalells)*(ILC.evalells+1)/(2.*np.pi))\\n\\nplt.figure()\\nplt.plot(ILC.evalells,n*(ILC.evalells)*(ILC.evalells+1)/(2.*np.pi))\\nplt.loglog(ILC.evalells,npol*(ILC.evalells)*(ILC.evalells+1)/(2.*np.pi))\\n'"
      ]
     },
     "execution_count": 5,
     "metadata": {},
     "output_type": "execute_result"
    }
   ],
   "source": [
    "'''\n",
    "lat_lmax = 4000\n",
    "\n",
    "import silc.ccat_noise_200306 as ccatp\n",
    "ccat = ccatp.CcatLatv2('baseline',survey_years=4000/24./365.24,survey_efficiency = 1.0)\n",
    "ell_CC, N_ell_CC_T_full,N_ell_CC_P_full = ccat.get_noise_curves(fsky, lat_lmax, 1, full_covar=False, deconv_beam=True)\n",
    "\n",
    "plt.figure()\n",
    "plt.semilogy(ell_CC,N_ell_CC_P_full[0,:],label='P')\n",
    "plt.plot(ell_CC,N_ell_CC_T_full[0,:],label='T')\n",
    "plt.plot(ell_CC,N_ell_CC_P_full[0,:]*ell_CC**2,'--',label='P ell^2')\n",
    "plt.plot(ell_CC,N_ell_CC_T_full[0,:]*ell_CC**2,'--',label='T ell^2')\n",
    "leg = legend(loc=0,prop={\"size\":12})\n",
    "leg.draw_frame(False)\n",
    "\n",
    "plt.figure()\n",
    "plt.plot(ILC.evalells,ILC.nells[:,fq,fq]*(ILC.evalells)*(ILC.evalells+1)/(2.*np.pi))\n",
    "plt.semilogy(ILC.evalells,ILC.nells_pol[:,fq,fq]*(ILC.evalells)*(ILC.evalells+1)/(2.*np.pi))\n",
    "\n",
    "plt.figure()\n",
    "plt.plot(ILC.evalells,n*(ILC.evalells)*(ILC.evalells+1)/(2.*np.pi))\n",
    "plt.loglog(ILC.evalells,npol*(ILC.evalells)*(ILC.evalells+1)/(2.*np.pi))\n",
    "'''"
   ]
  },
  {
   "cell_type": "code",
   "execution_count": null,
   "metadata": {},
   "outputs": [],
   "source": []
  }
 ],
 "metadata": {
  "kernelspec": {
   "display_name": "Python 3",
   "language": "python",
   "name": "python3"
  },
  "language_info": {
   "codemirror_mode": {
    "name": "ipython",
    "version": 3
   },
   "file_extension": ".py",
   "mimetype": "text/x-python",
   "name": "python",
   "nbconvert_exporter": "python",
   "pygments_lexer": "ipython3",
   "version": "3.7.2"
  }
 },
 "nbformat": 4,
 "nbformat_minor": 2
}
